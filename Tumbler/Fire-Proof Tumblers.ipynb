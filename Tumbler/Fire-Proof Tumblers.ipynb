{
 "cells": [
  {
   "cell_type": "markdown",
   "id": "96dd3612",
   "metadata": {},
   "source": [
    "# Fire-Proof Tumblers\n",
    "\n",
    "---\n",
    "\n",
    "## Combining & Cleaning CSV and Reviews"
   ]
  },
  {
   "cell_type": "code",
   "execution_count": 1,
   "id": "43dfd7d0",
   "metadata": {},
   "outputs": [],
   "source": [
    "# Dependencies and Set Up\n",
    "import pandas as pd"
   ]
  },
  {
   "cell_type": "markdown",
   "id": "0f6303a3",
   "metadata": {},
   "source": [
    "### Google Trends Between Stanley, Yeti & Hydroflask"
   ]
  },
  {
   "cell_type": "code",
   "execution_count": 2,
   "id": "1ac19c35",
   "metadata": {},
   "outputs": [
    {
     "data": {
      "text/html": [
       "<div>\n",
       "<style scoped>\n",
       "    .dataframe tbody tr th:only-of-type {\n",
       "        vertical-align: middle;\n",
       "    }\n",
       "\n",
       "    .dataframe tbody tr th {\n",
       "        vertical-align: top;\n",
       "    }\n",
       "\n",
       "    .dataframe thead th {\n",
       "        text-align: right;\n",
       "    }\n",
       "</style>\n",
       "<table border=\"1\" class=\"dataframe\">\n",
       "  <thead>\n",
       "    <tr style=\"text-align: right;\">\n",
       "      <th></th>\n",
       "      <th></th>\n",
       "      <th></th>\n",
       "      <th>Category: All categories</th>\n",
       "    </tr>\n",
       "  </thead>\n",
       "  <tbody>\n",
       "    <tr>\n",
       "      <th>Week</th>\n",
       "      <th>yeti tumbler: (United States)</th>\n",
       "      <th>stanley tumbler: (United States)</th>\n",
       "      <td>hydroflask: (United States)</td>\n",
       "    </tr>\n",
       "    <tr>\n",
       "      <th>2019-09-15</th>\n",
       "      <th>6</th>\n",
       "      <th>0</th>\n",
       "      <td>38</td>\n",
       "    </tr>\n",
       "    <tr>\n",
       "      <th>2019-09-22</th>\n",
       "      <th>6</th>\n",
       "      <th>0</th>\n",
       "      <td>36</td>\n",
       "    </tr>\n",
       "    <tr>\n",
       "      <th>2019-09-29</th>\n",
       "      <th>6</th>\n",
       "      <th>0</th>\n",
       "      <td>33</td>\n",
       "    </tr>\n",
       "    <tr>\n",
       "      <th>2019-10-06</th>\n",
       "      <th>6</th>\n",
       "      <th>0</th>\n",
       "      <td>32</td>\n",
       "    </tr>\n",
       "  </tbody>\n",
       "</table>\n",
       "</div>"
      ],
      "text/plain": [
       "                                                                              Category: All categories\n",
       "Week       yeti tumbler: (United States) stanley tumbler: (United States)  hydroflask: (United States)\n",
       "2019-09-15 6                             0                                                          38\n",
       "2019-09-22 6                             0                                                          36\n",
       "2019-09-29 6                             0                                                          33\n",
       "2019-10-06 6                             0                                                          32"
      ]
     },
     "execution_count": 2,
     "metadata": {},
     "output_type": "execute_result"
    }
   ],
   "source": [
    "# Load CSV file into Pandas DataFrame\n",
    "time_df = pd.read_csv(\"../Resources/multiTimeline.csv\")\n",
    "\n",
    "# Display sample data\n",
    "time_df.head()"
   ]
  },
  {
   "cell_type": "code",
   "execution_count": 3,
   "id": "57699b14",
   "metadata": {},
   "outputs": [
    {
     "data": {
      "text/html": [
       "<div>\n",
       "<style scoped>\n",
       "    .dataframe tbody tr th:only-of-type {\n",
       "        vertical-align: middle;\n",
       "    }\n",
       "\n",
       "    .dataframe tbody tr th {\n",
       "        vertical-align: top;\n",
       "    }\n",
       "\n",
       "    .dataframe thead th {\n",
       "        text-align: right;\n",
       "    }\n",
       "</style>\n",
       "<table border=\"1\" class=\"dataframe\">\n",
       "  <thead>\n",
       "    <tr style=\"text-align: right;\">\n",
       "      <th></th>\n",
       "      <th></th>\n",
       "      <th></th>\n",
       "      <th>Category: All categories</th>\n",
       "    </tr>\n",
       "  </thead>\n",
       "  <tbody>\n",
       "    <tr>\n",
       "      <th>Region</th>\n",
       "      <th>yeti tumbler: (9/17/19 - 9/17/24)</th>\n",
       "      <th>stanley tumbler: (9/17/19 - 9/17/24)</th>\n",
       "      <td>hydroflask: (9/17/19 - 9/17/24)</td>\n",
       "    </tr>\n",
       "    <tr>\n",
       "      <th>New Hampshire</th>\n",
       "      <th>26%</th>\n",
       "      <th>23%</th>\n",
       "      <td>51%</td>\n",
       "    </tr>\n",
       "    <tr>\n",
       "      <th>Maine</th>\n",
       "      <th>29%</th>\n",
       "      <th>25%</th>\n",
       "      <td>46%</td>\n",
       "    </tr>\n",
       "    <tr>\n",
       "      <th>Pennsylvania</th>\n",
       "      <th>28%</th>\n",
       "      <th>29%</th>\n",
       "      <td>43%</td>\n",
       "    </tr>\n",
       "    <tr>\n",
       "      <th>Michigan</th>\n",
       "      <th>30%</th>\n",
       "      <th>31%</th>\n",
       "      <td>39%</td>\n",
       "    </tr>\n",
       "  </tbody>\n",
       "</table>\n",
       "</div>"
      ],
      "text/plain": [
       "                                                                                             Category: All categories\n",
       "Region        yeti tumbler: (9/17/19 - 9/17/24) stanley tumbler: (9/17/19 - 9/17/24)  hydroflask: (9/17/19 - 9/17/24)\n",
       "New Hampshire 26%                               23%                                                               51%\n",
       "Maine         29%                               25%                                                               46%\n",
       "Pennsylvania  28%                               29%                                                               43%\n",
       "Michigan      30%                               31%                                                               39%"
      ]
     },
     "execution_count": 3,
     "metadata": {},
     "output_type": "execute_result"
    }
   ],
   "source": [
    "# Load CSV file into Pandas DataFrame\n",
    "map_df = pd.read_csv(\"../Resources/geoMap.csv\")\n",
    "\n",
    "# Display sample data\n",
    "map_df.head()"
   ]
  },
  {
   "cell_type": "markdown",
   "id": "010ec181",
   "metadata": {},
   "source": [
    "### Reviews Between Cream, Pink, and Black Stanley Tumblers"
   ]
  },
  {
   "cell_type": "code",
   "execution_count": null,
   "id": "9d90bc4b",
   "metadata": {},
   "outputs": [],
   "source": []
  },
  {
   "cell_type": "code",
   "execution_count": null,
   "id": "da609331",
   "metadata": {},
   "outputs": [],
   "source": []
  }
 ],
 "metadata": {
  "kernelspec": {
   "display_name": "Python 3 (ipykernel)",
   "language": "python",
   "name": "python3"
  },
  "language_info": {
   "codemirror_mode": {
    "name": "ipython",
    "version": 3
   },
   "file_extension": ".py",
   "mimetype": "text/x-python",
   "name": "python",
   "nbconvert_exporter": "python",
   "pygments_lexer": "ipython3",
   "version": "3.10.14"
  }
 },
 "nbformat": 4,
 "nbformat_minor": 5
}
