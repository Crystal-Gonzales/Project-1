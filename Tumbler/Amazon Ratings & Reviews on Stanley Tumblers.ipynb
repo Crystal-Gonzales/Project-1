{
 "cells": [
  {
   "cell_type": "markdown",
   "id": "73a30770",
   "metadata": {},
   "source": [
    "# Amazon Ratings & Reviews on Stanley Tumblers"
   ]
  },
  {
   "cell_type": "code",
   "execution_count": null,
   "id": "9e300c58",
   "metadata": {},
   "outputs": [],
   "source": [
    "# Dependencies and Set Up\n"
   ]
  },
  {
   "cell_type": "code",
   "execution_count": null,
   "id": "cbc3ad52",
   "metadata": {},
   "outputs": [],
   "source": []
  }
 ],
 "metadata": {
  "kernelspec": {
   "display_name": "Python 3 (ipykernel)",
   "language": "python",
   "name": "python3"
  },
  "language_info": {
   "codemirror_mode": {
    "name": "ipython",
    "version": 3
   },
   "file_extension": ".py",
   "mimetype": "text/x-python",
   "name": "python",
   "nbconvert_exporter": "python",
   "pygments_lexer": "ipython3",
   "version": "3.10.14"
  }
 },
 "nbformat": 4,
 "nbformat_minor": 5
}
